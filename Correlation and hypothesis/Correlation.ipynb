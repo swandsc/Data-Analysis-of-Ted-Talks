{
 "cells": [
  {
   "cell_type": "code",
   "execution_count": 115,
   "metadata": {},
   "outputs": [
    {
     "data": {
      "image/png": "[encoded data removed]",
      "text/plain": [
       "<Figure size 432x288 with 1 Axes>"
      ]
     },
     "metadata": {
      "needs_background": "light"
     },
     "output_type": "display_data"
    }
   ],
   "source": [
    "import pandas as pd \n",
    "from numpy.random import randn\n",
    "from numpy.random import seed\n",
    "from numpy import cov\n",
    "\n",
    "from numpy import mean,std\n",
    "from numpy.random import randn\n",
    "\n",
    "from matplotlib import pyplot \n",
    "\n",
    "import matplotlib.pyplot as plt\n",
    "\n",
    "data = pd.read_csv(\"output_final.csv\") \n",
    "\n",
    "views_list=list(data.views)\n",
    "\n",
    "tr_len=[]\n",
    "for i,j in data.iterrows():\n",
    "\ttr_len.append(len(j[14].split()))\n",
    "\n",
    "pyplot.scatter(tr_len,views_list)\n",
    "pyplot.show()\n"
   ]
  },
  {
   "cell_type": "code",
   "execution_count": 6,
   "metadata": {},
   "outputs": [
    {
     "data": {
      "text/plain": [
       "(0.059094925242052426, 0.04093396007585016)"
      ]
     },
     "execution_count": 6,
     "metadata": {},
     "output_type": "execute_result"
    }
   ],
   "source": [
    "#Before removing outliers\n",
    "import scipy.stats\n",
    "scipy.stats.pearsonr(views_list, tr_len)"
   ]
  },
  {
   "cell_type": "code",
   "execution_count": 7,
   "metadata": {},
   "outputs": [
    {
     "data": {
      "text/plain": [
       "0.059094925242052426"
      ]
     },
     "execution_count": 7,
     "metadata": {},
     "output_type": "execute_result"
    }
   ],
   "source": [
    "import numpy\n",
    "numpy.corrcoef(views_list, tr_len)[0, 1]"
   ]
  },
  {
   "cell_type": "code",
   "execution_count": 9,
   "metadata": {},
   "outputs": [
    {
     "name": "stdout",
     "output_type": "stream",
     "text": [
      "0.059094925242052426\n",
      "0.04093396007585016\n"
     ]
    }
   ],
   "source": [
    "from scipy.stats import pearsonr\n",
    "\n",
    "corr, p_value = pearsonr(views_list, tr_len)\n",
    "print(corr)\n",
    "print(p_value)"
   ]
  },
  {
   "cell_type": "code",
   "execution_count": 10,
   "metadata": {},
   "outputs": [
    {
     "data": {
      "text/plain": [
       "SpearmanrResult(correlation=0.08029036738257152, pvalue=0.005445153310213061)"
      ]
     },
     "execution_count": 10,
     "metadata": {},
     "output_type": "execute_result"
    }
   ],
   "source": [
    "scipy.stats.spearmanr(views_list, tr_len)"
   ]
  },
  {
   "cell_type": "code",
   "execution_count": 17,
   "metadata": {
    "collapsed": true
   },
   "outputs": [
    {
     "data": {
      "text/html": [
       "<div>\n",
       "<style scoped>\n",
       "    .dataframe tbody tr th:only-of-type {\n",
       "        vertical-align: middle;\n",
       "    }\n",
       "\n",
       "    .dataframe tbody tr th {\n",
       "        vertical-align: top;\n",
       "    }\n",
       "\n",
       "    .dataframe thead th {\n",
       "        text-align: right;\n",
       "    }\n",
       "</style>\n",
       "<table border=\"1\" class=\"dataframe\">\n",
       "  <thead>\n",
       "    <tr style=\"text-align: right;\">\n",
       "      <th></th>\n",
       "      <th>views</th>\n",
       "      <th>comments</th>\n",
       "      <th>transcripts</th>\n",
       "    </tr>\n",
       "  </thead>\n",
       "  <tbody>\n",
       "    <tr>\n",
       "      <th>views</th>\n",
       "      <td>1.000000</td>\n",
       "      <td>0.660404</td>\n",
       "      <td>0.059095</td>\n",
       "    </tr>\n",
       "    <tr>\n",
       "      <th>comments</th>\n",
       "      <td>0.660404</td>\n",
       "      <td>1.000000</td>\n",
       "      <td>0.131010</td>\n",
       "    </tr>\n",
       "    <tr>\n",
       "      <th>transcripts</th>\n",
       "      <td>0.059095</td>\n",
       "      <td>0.131010</td>\n",
       "      <td>1.000000</td>\n",
       "    </tr>\n",
       "  </tbody>\n",
       "</table>\n",
       "</div>"
      ],
      "text/plain": [
       "                views  comments  transcripts\n",
       "views        1.000000  0.660404     0.059095\n",
       "comments     0.660404  1.000000     0.131010\n",
       "transcripts  0.059095  0.131010     1.000000"
      ]
     },
     "execution_count": 17,
     "metadata": {},
     "output_type": "execute_result"
    }
   ],
   "source": [
    "df = pd.DataFrame({'views':data[\"views\"]})\n",
    "df[\"comments\"]=data[\"comments\"]\n",
    "df[\"transcripts\"]=tr_len\n",
    "df.corr()"
   ]
  },
  {
   "cell_type": "code",
   "execution_count": 18,
   "metadata": {
    "collapsed": true
   },
   "outputs": [
    {
     "ename": "AttributeError",
     "evalue": "module 'pandas' has no attribute 'scatter_matrix'",
     "output_type": "error",
     "traceback": [
      "\u001b[0;31m---------------------------------------------------------------------------\u001b[0m",
      "\u001b[0;31mAttributeError\u001b[0m                            Traceback (most recent call last)",
      "\u001b[0;32m<ipython-input-18-4b4e4ff0796e>\u001b[0m in \u001b[0;36m<module>\u001b[0;34m\u001b[0m\n\u001b[0;32m----> 1\u001b[0;31m \u001b[0mpd\u001b[0m\u001b[0;34m.\u001b[0m\u001b[0mscatter_matrix\u001b[0m\u001b[0;34m(\u001b[0m\u001b[0mdf\u001b[0m\u001b[0;34m,\u001b[0m \u001b[0mfigsize\u001b[0m\u001b[0;34m=\u001b[0m\u001b[0;34m(\u001b[0m\u001b[0;36m6\u001b[0m\u001b[0;34m,\u001b[0m \u001b[0;36m6\u001b[0m\u001b[0;34m)\u001b[0m\u001b[0;34m)\u001b[0m\u001b[0;34m\u001b[0m\u001b[0;34m\u001b[0m\u001b[0m\n\u001b[0m\u001b[1;32m      2\u001b[0m \u001b[0mplt\u001b[0m\u001b[0;34m.\u001b[0m\u001b[0mshow\u001b[0m\u001b[0;34m(\u001b[0m\u001b[0;34m)\u001b[0m\u001b[0;34m\u001b[0m\u001b[0;34m\u001b[0m\u001b[0m\n",
      "\u001b[0;31mAttributeError\u001b[0m: module 'pandas' has no attribute 'scatter_matrix'"
     ]
    }
   ],
   "source": [
    "pd.scatter_matrix(df, figsize=(6, 6))\n",
    "plt.show()"
   ]
  },
  {
   "cell_type": "code",
   "execution_count": 21,
   "metadata": {
    "scrolled": true
   },
   "outputs": [
    {
     "data": {
      "image/png": "[encoded data removed]",
      "text/plain": [
       "<Figure size 288x288 with 2 Axes>"
      ]
     },
     "metadata": {
      "needs_background": "light"
     },
     "output_type": "display_data"
    }
   ],
   "source": [
    "plt.matshow(df.corr())\n",
    "plt.xticks(range(len(df.columns)), df.columns)\n",
    "plt.yticks(range(len(df.columns)), df.columns)\n",
    "plt.colorbar()\n",
    "plt.show()"
   ]
  },
  {
   "cell_type": "code",
   "execution_count": 144,
   "metadata": {},
   "outputs": [
    {
     "name": "stdout",
     "output_type": "stream",
     "text": [
      "-278665.0\n",
      "1144491.0\n",
      "com 1097\n"
     ]
    },
    {
     "data": {
      "image/png": "[encoded data removed]",
      "text/plain": [
       "<Figure size 432x288 with 1 Axes>"
      ]
     },
     "metadata": {
      "needs_background": "light"
     },
     "output_type": "display_data"
    }
   ],
   "source": [
    "#REMOVAL_OF_OUTLIERS_FROM_VIEWS\n",
    "import numpy as np\n",
    "import math\n",
    "\n",
    "ff=pd.read_csv(\"output_final.csv\") \n",
    "comm=list(ff.comments)\n",
    "vf=list(ff.views)\n",
    "v=[]\n",
    "t=[]\n",
    "v=vf\n",
    "v.sort()\n",
    "l=len(v)\n",
    "vf=list(ff.views)\n",
    "#print(\"vf\\n\",vf)\n",
    "\n",
    "#print(\"Before\",l)\n",
    "\n",
    "i1=math.floor(0.25*(l+1))\n",
    "i3=math.floor(0.75*(l+1))\n",
    "\n",
    "q1=v[i1]\n",
    "q3=v[i3]\n",
    "\n",
    "iqr=scipy.stats.iqr(v)\n",
    "\n",
    "min=q1-(1.5*(iqr))\n",
    "max=q3+(1.5*(iqr))\n",
    "\n",
    "print(min)\n",
    "print(max)\n",
    "\n",
    "#q1=np.quantile(v, 0.25)\n",
    "#q1=np.quantile(v, 0.75)\n",
    "\n",
    "p=[]\n",
    "count=0\n",
    "#print(\"#############################################################\\n\\n\")\n",
    "for i in vf:\n",
    "    if i<min or i>max:\n",
    "        #print(i)\n",
    "        count+=1\n",
    "        ind=vf.index(i)\n",
    "        t.append(ind)\n",
    "        #p.append(i)\n",
    "        #print(count,ind,i)\n",
    "        #vf.remove(i)\n",
    "        \n",
    "        \n",
    "for i in sorted(t, reverse=True):\n",
    "    vf.remove(vf[i])    \n",
    "    \n",
    "#print(len(vf))\n",
    "#print(p,len(p))\n",
    "#print(\"vf\",vf)\n",
    "#print(\"After\",len(v))\n",
    "#print(\"#############################################################\\n\\n\")        \n",
    "tr_l=[]\n",
    "\n",
    "for i,j in ff.iterrows():\n",
    "    tr_l.append(len(j[14].split()))\n",
    "#print(tr_l)\n",
    "\n",
    "\n",
    "for i in sorted(t, reverse=True):\n",
    "    tr_l.remove(tr_l[i])\n",
    "    \n",
    "for i in sorted(t, reverse=True):\n",
    "    comm.remove(comm[i])\n",
    "    \n",
    "#print(\"tr_len\",len(tr_l))\n",
    "\n",
    "#print(\"vf\",len(vf))\n",
    "\n",
    "print(\"com\",len(comm))\n",
    "    \n",
    "pyplot.scatter(tr_l,vf)\n",
    "pyplot.show()\n",
    "\n",
    "\n",
    "\n"
   ]
  },
  {
   "cell_type": "code",
   "execution_count": 145,
   "metadata": {},
   "outputs": [
    {
     "name": "stdout",
     "output_type": "stream",
     "text": [
      "Transcripts \n",
      "  Before: 1097\n",
      "min  -1249.5\n",
      "max 5539.5\n"
     ]
    },
    {
     "data": {
      "image/png": "[encoded data removed]",
      "text/plain": [
       "<Figure size 432x288 with 1 Axes>"
      ]
     },
     "metadata": {
      "needs_background": "light"
     },
     "output_type": "display_data"
    },
    {
     "name": "stdout",
     "output_type": "stream",
     "text": [
      "879 879 879\n"
     ]
    }
   ],
   "source": [
    "#REMOVAL_OF_OUTLIERS_FROM_TRNSCRIPTS\n",
    "\n",
    "#com=comm\n",
    "v=vf\n",
    "t=tr_l\n",
    "tf=tr_l\n",
    "tf.sort()\n",
    "l=len(tf)\n",
    "print(\"Transcripts \\n  Before:\",l)\n",
    "\n",
    "i1=math.floor(0.25*(l+1))\n",
    "i3=math.floor(0.75*(l+1))\n",
    "\n",
    "q1=tf[i1]\n",
    "q3=tf[i3]\n",
    "\n",
    "iqr=scipy.stats.iqr(tf)\n",
    "\n",
    "min=q1-(1.5*(iqr))\n",
    "max=q3+(1.5*(iqr))\n",
    "\n",
    "print(\"min \",min)\n",
    "print(\"max\",max)\n",
    "\n",
    "c=[]\n",
    "for i in t:\n",
    "    if i<1009 or i>4427:\n",
    "        #print(i)    \n",
    "        ind=t.index(i)\n",
    "        c.append(ind)\n",
    "        #p.append(i)\n",
    "        #print(count,ind,i)\n",
    "        #t.remove(i)\n",
    "\n",
    "for i in sorted(c, reverse=True):\n",
    "    t.remove(t[i])\n",
    "        \n",
    "for i in sorted(c, reverse=True):\n",
    "    v.remove(v[i])\n",
    "\n",
    "for i in sorted(c, reverse=True):\n",
    "    comm.remove(comm[i])\n",
    "\n",
    "\n",
    "pyplot.scatter(t,v)\n",
    "pyplot.show()\n",
    "\n",
    "print(len(v),len(t),len(comm))\n",
    "\n",
    "\n"
   ]
  },
  {
   "cell_type": "code",
   "execution_count": 127,
   "metadata": {},
   "outputs": [
    {
     "data": {
      "text/plain": [
       "SpearmanrResult(correlation=0.17544167166739885, pvalue=1.6522266294763927e-07)"
      ]
     },
     "execution_count": 127,
     "metadata": {},
     "output_type": "execute_result"
    }
   ],
   "source": [
    "scipy.stats.spearmanr(t,v)"
   ]
  },
  {
   "cell_type": "code",
   "execution_count": 128,
   "metadata": {},
   "outputs": [
    {
     "name": "stdout",
     "output_type": "stream",
     "text": [
      "0.14110406502914594\n",
      "2.6867209148145565e-05\n"
     ]
    }
   ],
   "source": [
    "corr, p_value = pearsonr(t,v)\n",
    "print(corr)\n",
    "print(p_value)"
   ]
  },
  {
   "cell_type": "code",
   "execution_count": 146,
   "metadata": {},
   "outputs": [
    {
     "data": {
      "text/html": [
       "<div>\n",
       "<style scoped>\n",
       "    .dataframe tbody tr th:only-of-type {\n",
       "        vertical-align: middle;\n",
       "    }\n",
       "\n",
       "    .dataframe tbody tr th {\n",
       "        vertical-align: top;\n",
       "    }\n",
       "\n",
       "    .dataframe thead th {\n",
       "        text-align: right;\n",
       "    }\n",
       "</style>\n",
       "<table border=\"1\" class=\"dataframe\">\n",
       "  <thead>\n",
       "    <tr style=\"text-align: right;\">\n",
       "      <th></th>\n",
       "      <th>views</th>\n",
       "      <th>transcripts</th>\n",
       "      <th>comments</th>\n",
       "    </tr>\n",
       "  </thead>\n",
       "  <tbody>\n",
       "    <tr>\n",
       "      <th>views</th>\n",
       "      <td>1.000000</td>\n",
       "      <td>0.141104</td>\n",
       "      <td>0.003077</td>\n",
       "    </tr>\n",
       "    <tr>\n",
       "      <th>transcripts</th>\n",
       "      <td>0.141104</td>\n",
       "      <td>1.000000</td>\n",
       "      <td>0.034198</td>\n",
       "    </tr>\n",
       "    <tr>\n",
       "      <th>comments</th>\n",
       "      <td>0.003077</td>\n",
       "      <td>0.034198</td>\n",
       "      <td>1.000000</td>\n",
       "    </tr>\n",
       "  </tbody>\n",
       "</table>\n",
       "</div>"
      ],
      "text/plain": [
       "                views  transcripts  comments\n",
       "views        1.000000     0.141104  0.003077\n",
       "transcripts  0.141104     1.000000  0.034198\n",
       "comments     0.003077     0.034198  1.000000"
      ]
     },
     "execution_count": 146,
     "metadata": {},
     "output_type": "execute_result"
    }
   ],
   "source": [
    "df = pd.DataFrame({'views':v})\n",
    "df[\"transcripts\"]=t\n",
    "df[\"comments\"]=comm\n",
    "df.corr()"
   ]
  },
  {
   "cell_type": "code",
   "execution_count": 147,
   "metadata": {},
   "outputs": [
    {
     "data": {
      "image/png": "[encoded data removed]",
      "text/plain": [
       "<Figure size 288x288 with 2 Axes>"
      ]
     },
     "metadata": {
      "needs_background": "light"
     },
     "output_type": "display_data"
    }
   ],
   "source": [
    "plt.matshow(df.corr())\n",
    "plt.xticks(range(len(df.columns)), df.columns)\n",
    "plt.yticks(range(len(df.columns)), df.columns)\n",
    "plt.colorbar()\n",
    "plt.show()"
   ]
  },
  {
   "cell_type": "code",
   "execution_count": null,
   "metadata": {},
   "outputs": [],
   "source": []
  }
 ],
 "metadata": {
  "kernelspec": {
   "display_name": "Python 3",
   "language": "python",
   "name": "python3"
  },
  "language_info": {
   "codemirror_mode": {
    "name": "ipython",
    "version": 3
   },
   "file_extension": ".py",
   "mimetype": "text/x-python",
   "name": "python",
   "nbconvert_exporter": "python",
   "pygments_lexer": "ipython3",
   "version": "3.6.8"
  }
 },
 "nbformat": 4,
 "nbformat_minor": 2
}
